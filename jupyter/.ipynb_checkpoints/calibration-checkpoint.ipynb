{
 "cells": [
  {
   "cell_type": "code",
   "execution_count": 13,
   "metadata": {},
   "outputs": [],
   "source": [
    "import glob\n",
    "import numpy as np\n",
    "import cv2\n",
    "# for chessboard\n",
    "root_origin = '/Users/scenery/Code/SomeGit/Stereo/Problems/stereo/left/'\n",
    "root_corner = '/Users/scenery/Code/SomeGit/Stereo/Problems/stereo/corner/'"
   ]
  },
  {
   "cell_type": "code",
   "execution_count": 14,
   "metadata": {},
   "outputs": [],
   "source": [
    "# termination criteria\n",
    "criteria = (cv2.TERM_CRITERIA_EPS + cv2.TERM_CRITERIA_MAX_ITER, 30, 0.001)\n",
    "\n",
    "# prepare object points, like (0,0,0), (1,0,0), (2,0,0) ....,(6,5,0)\n",
    "objp = np.zeros((6*7,3), np.float32)\n",
    "objp[:,:2] = np.mgrid[0:7,0:6].T.reshape(-1,2)\n",
    "\n",
    "# Arrays to store object points and image points from all the images.\n",
    "objpoints = [] # 3d point in real world space\n",
    "imgpoints = [] # 2d points in image plane.\n",
    "\n",
    "images = sorted(glob.glob(root_origin + '*.jpg'))\n",
    "\n",
    "for i, fname in enumerate(images):\n",
    "    img = cv2.imread(fname)\n",
    "    gray = cv2.cvtColor(img,cv2.COLOR_BGR2GRAY)\n",
    "\n",
    "    # Find the chess board corners\n",
    "    ret, corners = cv2.findChessboardCorners(gray, (7,6),None)\n",
    "\n",
    "    # If found, add object points, image points (after refining them)\n",
    "    if ret == True:\n",
    "        objpoints.append(objp)\n",
    "\n",
    "        corners2 = cv2.cornerSubPix(gray,corners,(11,11),(-1,-1),criteria)\n",
    "        imgpoints.append(corners2)\n",
    "\n",
    "        # Draw and display the corners\n",
    "        img = cv2.drawChessboardCorners(img, (7,6), corners2,ret)\n",
    "        #cv2.imshow('img',img)\n",
    "        #cv2.waitKey(500)\n",
    "        cv2.imwrite(root_corner + 'image%d.jpg' % i, img)"
   ]
  },
  {
   "cell_type": "code",
   "execution_count": 15,
   "metadata": {},
   "outputs": [],
   "source": [
    "#calibrateCamera(objectPoints, imagePoints, imageSize, cameraMatrix, distCoeffs[, rvecs[, tvecs[, flags[, criteria]]]]) → retval, cameraMatrix, distCoeffs, rvecs, tvecs\n",
    "ret, mtx, dist, rvecs, tvecs = cv2.calibrateCamera(objpoints, imgpoints, gray.shape[::-1],None,None)\n",
    "#wonder the meaning of retval and some input parameters"
   ]
  },
  {
   "cell_type": "code",
   "execution_count": 16,
   "metadata": {},
   "outputs": [
    {
     "data": {
      "text/plain": [
       "0.15536906910078782"
      ]
     },
     "execution_count": 16,
     "metadata": {},
     "output_type": "execute_result"
    }
   ],
   "source": [
    "ret"
   ]
  },
  {
   "cell_type": "code",
   "execution_count": 17,
   "metadata": {},
   "outputs": [
    {
     "data": {
      "text/plain": [
       "array([[534.07088369,   0.        , 341.53407488],\n",
       "       [  0.        , 534.11914598, 232.94565298],\n",
       "       [  0.        ,   0.        ,   1.        ]])"
      ]
     },
     "execution_count": 17,
     "metadata": {},
     "output_type": "execute_result"
    }
   ],
   "source": [
    "mtx"
   ]
  },
  {
   "cell_type": "code",
   "execution_count": 18,
   "metadata": {},
   "outputs": [
    {
     "data": {
      "text/plain": [
       "array([[-2.92971638e-01,  1.07706979e-01,  1.31038388e-03,\n",
       "        -3.11020449e-05,  4.34797714e-02]])"
      ]
     },
     "execution_count": 18,
     "metadata": {},
     "output_type": "execute_result"
    }
   ],
   "source": [
    "dist"
   ]
  },
  {
   "cell_type": "code",
   "execution_count": 19,
   "metadata": {},
   "outputs": [
    {
     "data": {
      "text/plain": [
       "[array([[-0.45883216],\n",
       "        [-0.08848877],\n",
       "        [-1.33510786]]), array([[-0.17288944],\n",
       "        [-0.46764681],\n",
       "        [ 1.34745198]]), array([[-0.43239599],\n",
       "        [ 0.25603401],\n",
       "        [-3.08832021]]), array([[-0.2645143 ],\n",
       "        [-0.39360849],\n",
       "        [-2.74787379]]), array([[ 0.41531697],\n",
       "        [ 0.65664498],\n",
       "        [-1.3373494 ]]), array([[-0.35367631],\n",
       "        [-0.24363034],\n",
       "        [-1.56874295]]), array([[-0.29979221],\n",
       "        [ 0.39216377],\n",
       "        [-1.4348239 ]]), array([[-0.32034625],\n",
       "        [ 0.15979931],\n",
       "        [-1.24149595]]), array([[ 0.30697385],\n",
       "        [ 0.5038552 ],\n",
       "        [-1.82824733]]), array([[-0.45993978],\n",
       "        [-0.3142018 ],\n",
       "        [-1.76122223]]), array([[-0.37843358],\n",
       "        [-0.18064237],\n",
       "        [-3.11615996]])]"
      ]
     },
     "execution_count": 19,
     "metadata": {},
     "output_type": "execute_result"
    }
   ],
   "source": [
    "rvecs"
   ]
  },
  {
   "cell_type": "code",
   "execution_count": 20,
   "metadata": {},
   "outputs": [
    {
     "data": {
      "text/plain": [
       "[array([[-3.27916483],\n",
       "        [ 2.15811688],\n",
       "        [11.72833344]]), array([[ 1.81888152],\n",
       "        [-4.26429191],\n",
       "        [12.45728516]]), array([[ 3.79739148],\n",
       "        [ 0.89895016],\n",
       "        [14.8593055 ]]), array([[3.03685643],\n",
       "        [2.74656587],\n",
       "        [9.90005138]]), array([[-2.12419183],\n",
       "        [ 1.84550817],\n",
       "        [12.81229188]]), array([[-2.89985493],\n",
       "        [ 2.62066992],\n",
       "        [10.57699258]]), array([[ 1.60364765],\n",
       "        [ 3.81296374],\n",
       "        [16.12054474]]), array([[-5.94286693],\n",
       "        [ 2.39629425],\n",
       "        [16.77859027]]), array([[-1.2233963 ],\n",
       "        [ 3.52139947],\n",
       "        [15.6731179 ]]), array([[-1.13991521],\n",
       "        [ 2.67424463],\n",
       "        [ 9.56289277]]), array([[ 2.82321757],\n",
       "        [ 2.22374306],\n",
       "        [10.95762951]])]"
      ]
     },
     "execution_count": 20,
     "metadata": {},
     "output_type": "execute_result"
    }
   ],
   "source": [
    "tvecs"
   ]
  },
  {
   "cell_type": "code",
   "execution_count": 11,
   "metadata": {},
   "outputs": [],
   "source": [
    "img = cv2.imread(root_origin + 'left12.jpg')\n",
    "h,  w = img.shape[:2]\n",
    "newcameramtx, roi=cv2.getOptimalNewCameraMatrix(mtx,dist,(w,h),1,(w,h))"
   ]
  },
  {
   "cell_type": "code",
   "execution_count": 12,
   "metadata": {},
   "outputs": [
    {
     "data": {
      "text/plain": [
       "True"
      ]
     },
     "execution_count": 12,
     "metadata": {},
     "output_type": "execute_result"
    }
   ],
   "source": [
    "# undistort\n",
    "dst = cv2.undistort(img, mtx, dist, None, newcameramtx)\n",
    "\n",
    "# crop the image\n",
    "x,y,w,h = roi\n",
    "dst = dst[y:y+h, x:x+w]\n",
    "cv2.imwrite('calibresult.png',dst)"
   ]
  },
  {
   "cell_type": "code",
   "execution_count": null,
   "metadata": {},
   "outputs": [],
   "source": []
  }
 ],
 "metadata": {
  "kernelspec": {
   "display_name": "Python 3",
   "language": "python",
   "name": "python3"
  },
  "language_info": {
   "codemirror_mode": {
    "name": "ipython",
    "version": 3
   },
   "file_extension": ".py",
   "mimetype": "text/x-python",
   "name": "python",
   "nbconvert_exporter": "python",
   "pygments_lexer": "ipython3",
   "version": "3.7.3"
  }
 },
 "nbformat": 4,
 "nbformat_minor": 2
}
