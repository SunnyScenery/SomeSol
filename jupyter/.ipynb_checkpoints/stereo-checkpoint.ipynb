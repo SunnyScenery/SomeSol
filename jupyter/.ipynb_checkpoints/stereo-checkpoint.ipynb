{
 "cells": [
  {
   "cell_type": "code",
   "execution_count": 1,
   "metadata": {},
   "outputs": [],
   "source": [
    "import glob\n",
    "import numpy as np\n",
    "import cv2\n",
    "# for chessboard\n",
    "root_left_origin = '/Users/scenery/Code/SomeGit/Stereo/Problems/stereo/left/'\n",
    "root_right_origin = '/Users/scenery/Code/SomeGit/Stereo/Problems/stereo/right/'\n",
    "# root_origin = '/Users/scenery/Downloads/left/'\n",
    "# root_corner = '/Users/scenery/Downloads/corner/'\n",
    "root_corner = '/Users/scenery/Code/SomeGit/Stereo/Problems/stereo/corner/'"
   ]
  },
  {
   "cell_type": "code",
   "execution_count": 2,
   "metadata": {},
   "outputs": [
    {
     "name": "stdout",
     "output_type": "stream",
     "text": [
      "1 right image is false\n",
      "4 right image is false\n",
      "7 right image is false\n",
      "8 left image is false\n",
      "9 left image is false\n"
     ]
    }
   ],
   "source": [
    "# termination criteria\n",
    "criteria = (cv2.TERM_CRITERIA_EPS + cv2.TERM_CRITERIA_MAX_ITER, 30, 0.001)\n",
    "\n",
    "# prepare object points, like (0,0,0), (1,0,0), (2,0,0) ....,(6,5,0)\n",
    "objp = np.zeros((6*7,3), np.float32)\n",
    "objp[:,:2] = np.mgrid[0:7,0:6].T.reshape(-1,2)\n",
    "\n",
    "# Arrays to store object points and image points from all the images.\n",
    "objpoints = [] # 3d point in real world space\n",
    "imgpoints_left = [] # 2d points in image plane.\n",
    "imgpoints_right = []\n",
    "\n",
    "# images = sorted(glob.glob(root_origin + '*.jpg'))\n",
    "images_left = sorted(glob.glob(root_left_origin + '*.jpg'))\n",
    "images_right = sorted(glob.glob(root_right_origin + '*.jpg'))\n",
    "\n",
    "for i, fname in enumerate(images_left):\n",
    "    img = cv2.imread(fname)\n",
    "    gray = cv2.cvtColor(img,cv2.COLOR_BGR2GRAY)\n",
    "\n",
    "    # Find the chess board corners\n",
    "    ret, corners = cv2.findChessboardCorners(gray, (7,6),None)\n",
    "\n",
    "    # If found, add object points, image points (after refining them)\n",
    "    if ret == True:\n",
    "        \n",
    "        # left image ok, go check the right image\n",
    "        img_r = cv2.imread(images_right[i])\n",
    "        gray_r = cv2.cvtColor(img_r, cv2.COLOR_BGR2GRAY)\n",
    "        ret_r, corners_r = cv2.findChessboardCorners(gray_r, (7,6),None)\n",
    "        \n",
    "        # both images pass\n",
    "        if ret_r == True:\n",
    "            corners2_r = cv2.cornerSubPix(gray_r, corners_r, (11,11), (-1,-1), criteria)\n",
    "            imgpoints_right.append(corners2_r)\n",
    "\n",
    "            # Draw and display the corners\n",
    "            img_r = cv2.drawChessboardCorners(img_r, (7,6), corners2_r, ret_r)\n",
    "            #cv2.imshow('img',img)\n",
    "            #cv2.waitKey(500)\n",
    "            cv2.imwrite(root_corner + 'right_image%d.jpg' % i, img_r)\n",
    "        \n",
    "            objpoints.append(objp)\n",
    "\n",
    "            corners2 = cv2.cornerSubPix(gray,corners,(11,11),(-1,-1),criteria)\n",
    "            imgpoints_left.append(corners2)\n",
    "\n",
    "            # Draw and display the corners\n",
    "            img = cv2.drawChessboardCorners(img, (7,6), corners2,ret)\n",
    "            #cv2.imshow('img',img)\n",
    "            #cv2.waitKey(500)\n",
    "            cv2.imwrite(root_corner + 'left_image%d.jpg' % i, img)\n",
    "        \n",
    "        if ret_r == False:\n",
    "            print('%d right image is false' % i)\n",
    "    \n",
    "    if ret == False:\n",
    "        print('%d left image is false' % i)"
   ]
  },
  {
   "cell_type": "code",
   "execution_count": 3,
   "metadata": {},
   "outputs": [],
   "source": [
    "# in latest document: https://docs.opencv.org/4.1.0/d9/d0c/group__calib3d.html#ga246253dcc6de2e0376c599e7d692303a \n",
    "ret_l, mtx_l, dist_l, rvecs_l, tvecs_l = cv2.calibrateCamera(objpoints, imgpoints_left, gray.shape[::-1],None,None)\n",
    "ret_r, mtx_r, dist_r, rvecs_r, tvecs_r = cv2.calibrateCamera(objpoints, imgpoints_right, gray.shape[::-1],None,None)\n",
    "\n",
    "retval, cameraMatrix1, distCoeffs1, cameraMatrix2, distCoeffs2, R, T, E, F = cv2.stereoCalibrate(\n",
    "    objpoints, imgpoints_left, imgpoints_right, mtx_l, dist_l, mtx_r, dist_r, imageSize = gray.shape[::-1])"
   ]
  },
  {
   "cell_type": "code",
   "execution_count": 4,
   "metadata": {
    "scrolled": true
   },
   "outputs": [
    {
     "name": "stdout",
     "output_type": "stream",
     "text": [
      "[[534.12898424   0.         339.54419909]\n",
      " [  0.         534.10657393 230.93708727]\n",
      " [  0.           0.           1.        ]]\n"
     ]
    }
   ],
   "source": [
    "print(cameraMatrix1)"
   ]
  },
  {
   "cell_type": "code",
   "execution_count": 7,
   "metadata": {},
   "outputs": [],
   "source": [
    "# ----\n",
    "# rectification\n",
    "# ---\n",
    "\n",
    "# undistortion of left image and save\n",
    "img = cv2.imread(root_left_origin + 'left1.jpg')\n",
    "h, w = img.shape[:2]\n",
    "dst = cv2.undistort(img, cameraMatrix1, distCoeffs1, None, None)\n",
    "cv2.imwrite(root_corner + 'undistort_left1.png',dst)\n",
    "\n",
    "# get new points\n",
    "gray = cv2.cvtColor(dst,cv2.COLOR_BGR2GRAY)\n",
    "ret, corners_left = cv2.findChessboardCorners(gray, (7,6),None)\n",
    "    \n",
    "# same for right image\n",
    "img = cv2.imread(root_right_origin + 'right1.jpg')\n",
    "h, w = img.shape[:2]\n",
    "dst = cv2.undistort(img, cameraMatrix2, distCoeffs2, None, None)\n",
    "cv2.imwrite(root_corner + 'undistort_right1.png',dst)\n",
    "\n",
    "# get new points\n",
    "gray = cv2.cvtColor(dst,cv2.COLOR_BGR2GRAY)\n",
    "ret, corners_right = cv2.findChessboardCorners(gray, (7,6),None)\n",
    "\n",
    "# rectification\n",
    "ret, H1, H2 = cv2.stereoRectifyUncalibrated(corners_left, corners_right, F, gray.shape[::-1])\n",
    "# then we could calculate the Rotation matrix"
   ]
  },
  {
   "cell_type": "code",
   "execution_count": 16,
   "metadata": {},
   "outputs": [],
   "source": [
    "# ---\n",
    "# another way\n",
    "# ---\n",
    "\n",
    "R1, R2, P1, P2, Q, validPixROI1, validPixROI2 = cv2.stereoRectify(cameraMatrix1, distCoeffs1, cameraMatrix2, distCoeffs2, gray.shape[::-1], R, T)\n",
    "map1, map2 = cv2.initUndistortRectifyMap(cameraMatrix2, distCoeffs2, R2, P2, gray.shape[::-1], 5)\n",
    "lmap1, lmap2 = cv2.initUndistortRectifyMap(cameraMatrix1, distCoeffs1, R1, P1, gray.shape[::-1], 5)"
   ]
  },
  {
   "cell_type": "code",
   "execution_count": 37,
   "metadata": {},
   "outputs": [
    {
     "data": {
      "text/plain": [
       "True"
      ]
     },
     "execution_count": 37,
     "metadata": {},
     "output_type": "execute_result"
    }
   ],
   "source": [
    "img = cv2.imread(root_right_origin + 'right12.jpg')\n",
    "right_dst = cv2.remap(img, map1, map2, 1)\n",
    "cv2.imwrite(root_corner + 'rectified_right12.png',right_dst)"
   ]
  },
  {
   "cell_type": "code",
   "execution_count": 38,
   "metadata": {},
   "outputs": [
    {
     "data": {
      "text/plain": [
       "True"
      ]
     },
     "execution_count": 38,
     "metadata": {},
     "output_type": "execute_result"
    }
   ],
   "source": [
    "img = cv2.imread(root_left_origin + 'left12.jpg')\n",
    "left_dst = cv2.remap(img, lmap1, lmap2, 1)\n",
    "cv2.imwrite(root_corner + 'rectified_left12.png',left_dst)"
   ]
  },
  {
   "cell_type": "code",
   "execution_count": 47,
   "metadata": {},
   "outputs": [
    {
     "data": {
      "text/plain": [
       "True"
      ]
     },
     "execution_count": 47,
     "metadata": {},
     "output_type": "execute_result"
    }
   ],
   "source": [
    "# ---\n",
    "# SGBM\n",
    "# ---\n",
    "SGBM = cv2.StereoSGBM_create(minDisparity = 0,\n",
    "                            numDisparities = 32,\n",
    "                            blockSize = 9,\n",
    "                            P1 = 0,\n",
    "                            P2 = 20,\n",
    "                            disp12MaxDiff = 40,\n",
    "                            preFilterCap = 0,\n",
    "                            uniquenessRatio = 0,\n",
    "                            speckleWindowSize = 0,\n",
    "                            speckleRange = 0\n",
    "                            )\n",
    "disp_img = SGBM.compute(left_dst, right_dst)\n",
    "# disp_img = cv2.StereoSGBM.compute(left_dst, right_dst)\n",
    "cv2.imwrite(root_corner + 'disparityMap12.png', disp_img)"
   ]
  },
  {
   "cell_type": "code",
   "execution_count": null,
   "metadata": {},
   "outputs": [],
   "source": []
  },
  {
   "cell_type": "code",
   "execution_count": null,
   "metadata": {},
   "outputs": [],
   "source": []
  },
  {
   "cell_type": "code",
   "execution_count": null,
   "metadata": {},
   "outputs": [],
   "source": []
  }
 ],
 "metadata": {
  "kernelspec": {
   "display_name": "Python 3",
   "language": "python",
   "name": "python3"
  },
  "language_info": {
   "codemirror_mode": {
    "name": "ipython",
    "version": 3
   },
   "file_extension": ".py",
   "mimetype": "text/x-python",
   "name": "python",
   "nbconvert_exporter": "python",
   "pygments_lexer": "ipython3",
   "version": "3.7.3"
  }
 },
 "nbformat": 4,
 "nbformat_minor": 2
}
