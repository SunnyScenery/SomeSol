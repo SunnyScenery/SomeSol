{
 "cells": [
  {
   "cell_type": "code",
   "execution_count": 2,
   "metadata": {},
   "outputs": [],
   "source": [
    "import glob\n",
    "import numpy as np\n",
    "import cv2\n",
    "# for chessboard\n",
    "root_left_origin = '/Users/scenery/Code/SomeGit/Stereo/Problems/stereo/left/'\n",
    "root_right_origin = '/Users/scenery/Code/SomeGit/Stereo/Problems/stereo/right/'\n",
    "# root_origin = '/Users/scenery/Downloads/left/'\n",
    "# root_corner = '/Users/scenery/Downloads/corner/'\n",
    "root_corner = '/Users/scenery/Code/SomeGit/Stereo/Problems/stereo/corner/'"
   ]
  },
  {
   "cell_type": "code",
   "execution_count": 3,
   "metadata": {},
   "outputs": [
    {
     "name": "stdout",
     "output_type": "stream",
     "text": [
      "1 right image is false\n",
      "4 right image is false\n",
      "7 right image is false\n",
      "8 left image is false\n",
      "9 left image is false\n"
     ]
    }
   ],
   "source": [
    "# termination criteria\n",
    "criteria = (cv2.TERM_CRITERIA_EPS + cv2.TERM_CRITERIA_MAX_ITER, 30, 0.001)\n",
    "\n",
    "# prepare object points, like (0,0,0), (1,0,0), (2,0,0) ....,(6,5,0)\n",
    "objp = np.zeros((6*7,3), np.float32)\n",
    "objp[:,:2] = np.mgrid[0:7,0:6].T.reshape(-1,2)\n",
    "\n",
    "# Arrays to store object points and image points from all the images.\n",
    "objpoints = [] # 3d point in real world space\n",
    "imgpoints_left = [] # 2d points in image plane.\n",
    "imgpoints_right = []\n",
    "\n",
    "# images = sorted(glob.glob(root_origin + '*.jpg'))\n",
    "images_left = sorted(glob.glob(root_left_origin + '*.jpg'))\n",
    "images_right = sorted(glob.glob(root_right_origin + '*.jpg'))\n",
    "\n",
    "for i, fname in enumerate(images_left):\n",
    "    img = cv2.imread(fname)\n",
    "    gray = cv2.cvtColor(img,cv2.COLOR_BGR2GRAY)\n",
    "\n",
    "    # Find the chess board corners\n",
    "    ret, corners = cv2.findChessboardCorners(gray, (7,6),None)\n",
    "\n",
    "    # If found, add object points, image points (after refining them)\n",
    "    if ret == True:\n",
    "        \n",
    "        # left image ok, go check the right image\n",
    "        img_r = cv2.imread(images_right[i])\n",
    "        gray_r = cv2.cvtColor(img_r, cv2.COLOR_BGR2GRAY)\n",
    "        ret_r, corners_r = cv2.findChessboardCorners(gray_r, (7,6),None)\n",
    "        \n",
    "        # both images pass\n",
    "        if ret_r == True:\n",
    "            corners2_r = cv2.cornerSubPix(gray_r, corners_r, (11,11), (-1,-1), criteria)\n",
    "            imgpoints_right.append(corners2_r)\n",
    "\n",
    "            # Draw and display the corners\n",
    "            img_r = cv2.drawChessboardCorners(img_r, (7,6), corners2_r, ret_r)\n",
    "            #cv2.imshow('img',img)\n",
    "            #cv2.waitKey(500)\n",
    "            cv2.imwrite(root_corner + 'right_image%d.jpg' % i, img_r)\n",
    "        \n",
    "            objpoints.append(objp)\n",
    "\n",
    "            corners2 = cv2.cornerSubPix(gray,corners,(11,11),(-1,-1),criteria)\n",
    "            imgpoints_left.append(corners2)\n",
    "\n",
    "            # Draw and display the corners\n",
    "            img = cv2.drawChessboardCorners(img, (7,6), corners2,ret)\n",
    "            #cv2.imshow('img',img)\n",
    "            #cv2.waitKey(500)\n",
    "            cv2.imwrite(root_corner + 'left_image%d.jpg' % i, img)\n",
    "        \n",
    "        if ret_r == False:\n",
    "            print('%d right image is false' % i)\n",
    "    \n",
    "    if ret == False:\n",
    "        print('%d left image is false' % i)"
   ]
  },
  {
   "cell_type": "code",
   "execution_count": 4,
   "metadata": {},
   "outputs": [],
   "source": [
    "# in latest document: https://docs.opencv.org/4.1.0/d9/d0c/group__calib3d.html#ga246253dcc6de2e0376c599e7d692303a \n",
    "ret_l, mtx_l, dist_l, rvecs_l, tvecs_l = cv2.calibrateCamera(objpoints, imgpoints_left, gray.shape[::-1],None,None)\n",
    "ret_r, mtx_r, dist_r, rvecs_r, tvecs_r = cv2.calibrateCamera(objpoints, imgpoints_right, gray.shape[::-1],None,None)\n",
    "\n",
    "retval, cameraMatrix1, distCoeffs1, cameraMatrix2, distCoeffs2, R, T, E, F = cv2.stereoCalibrate(\n",
    "    objpoints, imgpoints_left, imgpoints_right, mtx_l, dist_l, mtx_r, dist_r, imageSize = gray.shape[::-1])"
   ]
  },
  {
   "cell_type": "code",
   "execution_count": 5,
   "metadata": {},
   "outputs": [
    {
     "name": "stdout",
     "output_type": "stream",
     "text": [
      "[[534.12898424   0.         339.54419909]\n",
      " [  0.         534.10657393 230.93708727]\n",
      " [  0.           0.           1.        ]]\n"
     ]
    }
   ],
   "source": [
    "print(cameraMatrix1)"
   ]
  },
  {
   "cell_type": "code",
   "execution_count": null,
   "metadata": {},
   "outputs": [],
   "source": []
  }
 ],
 "metadata": {
  "kernelspec": {
   "display_name": "Python 3",
   "language": "python",
   "name": "python3"
  },
  "language_info": {
   "codemirror_mode": {
    "name": "ipython",
    "version": 3
   },
   "file_extension": ".py",
   "mimetype": "text/x-python",
   "name": "python",
   "nbconvert_exporter": "python",
   "pygments_lexer": "ipython3",
   "version": "3.7.3"
  }
 },
 "nbformat": 4,
 "nbformat_minor": 2
}
